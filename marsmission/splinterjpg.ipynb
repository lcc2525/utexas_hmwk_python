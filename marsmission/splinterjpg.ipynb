{
 "cells": [
  {
   "cell_type": "code",
   "execution_count": 1,
   "metadata": {},
   "outputs": [],
   "source": [
    "# Dependencies\n",
    "from bs4 import BeautifulSoup\n",
    "import requests\n",
    "from splinter import Browser"
   ]
  },
  {
   "cell_type": "code",
   "execution_count": 2,
   "metadata": {},
   "outputs": [],
   "source": [
    "executable_path = {'executable_path': 'chromedriver.exe'}\n",
    "browser = Browser('chrome', **executable_path, headless=False)\n",
    "url = 'https://www.jpl.nasa.gov/spaceimages/?search=&category=Mars'\n",
    "browser.visit(url)"
   ]
  },
  {
   "cell_type": "code",
   "execution_count": 3,
   "metadata": {},
   "outputs": [],
   "source": [
    "browser.click_link_by_partial_text('FULL IMAGE')\n",
    "# browser.click_link_by_partial_text('Display actual size')\n",
    "# browser.find_by_name('Display actual size').first.click()\n",
    "# browser.find_link_by_text('more').first.click()\n",
    "# https://www.jpl.nasa.gov/spaceimages/details.php?id=PIA17896\n",
    "# browser.click_link_by_partial_text('MORE')\n",
    "# browser.click_link_by_partial_text(\"/spaceimages/\")\n"
   ]
  },
  {
   "cell_type": "code",
   "execution_count": 4,
   "metadata": {},
   "outputs": [],
   "source": [
    "#find and click full image button\n",
    "html = browser.html\n",
    "soup = BeautifulSoup(html, 'html.parser')\n",
    "\n",
    "# browser.click_link_by_partial_text('next')"
   ]
  },
  {
   "cell_type": "code",
   "execution_count": 5,
   "metadata": {},
   "outputs": [
    {
     "name": "stdout",
     "output_type": "stream",
     "text": [
      "https://www.jpl.nasa.gov/spaceimages/images/largesize/PIA17924_hires.jpg\n"
     ]
    }
   ],
   "source": [
    "imag = str(soup.find(class_='carousel_item'))\n",
    "imagUrl = imag.split('url' )[1].split('\\n')\n",
    "imagUrl1 = imagUrl[0].split(\"/\")\n",
    "# imgUrl = str(imag.prettify().split(');')[0].split(');\">'))\n",
    "# imgUrl2 = imgUrl.split('url').\n",
    "imag4 = imagUrl1[4].split('-')\n",
    "imgUrl3 = \"https://www.jpl.nasa.gov\"\n",
    "imagUrl4 = imgUrl3 + \"/\" + imagUrl1[1] + \"/\" + imagUrl1[2] + \"/largesize/\" + imag4[0] +  \"_hires.jpg\"\n",
    "print(imagUrl4)\n",
    "browser.visit(imagUrl4)"
   ]
  },
  {
   "cell_type": "code",
   "execution_count": 6,
   "metadata": {},
   "outputs": [],
   "source": [
    "# # URL of page to be scraped\n",
    "# url = 'https://www.jpl.nasa.gov/spaceimages/details.php?id=PIA19821'\n",
    "# browser.visit(url)\n",
    "# # Retrieve page with the requests module\n",
    "# response = requests.get(url)\n",
    "# # Create BeautifulSoup object; parse with 'lxml'\n",
    "# soup = BeautifulSoup(response.text, 'lxml')"
   ]
  },
  {
   "cell_type": "code",
   "execution_count": 7,
   "metadata": {},
   "outputs": [],
   "source": [
    "# # soup finds the image on the page and splits it for retrieval\n",
    "# results = soup.find(\"figure\",class_='lede')\n",
    "# img = results.a['href'].split(\"src=\")\n",
    "# print(img)"
   ]
  },
  {
   "cell_type": "code",
   "execution_count": null,
   "metadata": {},
   "outputs": [],
   "source": []
  }
 ],
 "metadata": {
  "kernelspec": {
   "display_name": "Python 3",
   "language": "python",
   "name": "python3"
  },
  "language_info": {
   "codemirror_mode": {
    "name": "ipython",
    "version": 3
   },
   "file_extension": ".py",
   "mimetype": "text/x-python",
   "name": "python",
   "nbconvert_exporter": "python",
   "pygments_lexer": "ipython3",
   "version": "3.6.5"
  }
 },
 "nbformat": 4,
 "nbformat_minor": 2
}
