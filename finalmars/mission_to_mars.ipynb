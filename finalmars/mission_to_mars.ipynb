{
 "cells": [
  {
   "cell_type": "code",
   "execution_count": 2,
   "metadata": {},
   "outputs": [],
   "source": [
    "# Dependencies\n",
    "from bs4 import BeautifulSoup\n",
    "import requests\n",
    "from splinter import Browser\n",
    "import pandas as pd"
   ]
  },
  {
   "cell_type": "code",
   "execution_count": 2,
   "metadata": {},
   "outputs": [],
   "source": [
    "# Read HTML from file\n",
    "# Create a Beautiful Soup object\n",
    "# url = 'https://mars.nasa.gov/news/?page=0&per_page=40&order=publish_date+desc%2Ccreated_at+desc&search=&category=19%2C165%2C184%2C204&blank_scope=Latest'\n",
    "url = \"https://mars.nasa.gov/news/\"\n",
    "# url = 'https://astrogeology.usgs.gov/search/results?q=hemisphere+enhanced&k1=target&v1=Mars'\n",
    "response = requests.get(url)\n",
    "soup = BeautifulSoup(response.text, \"html.parser\")\n",
    "# print(soup)\n",
    "#print(soup.prettify())\n",
    "\n",
    "# https://mars.nasa.gov/news/?page=0&per_page=40&order=publish_date+desc%2Ccreated_at+desc&search=&category=19%2C165%2C184%2C204&blank_scope=Latest"
   ]
  },
  {
   "cell_type": "code",
   "execution_count": 3,
   "metadata": {},
   "outputs": [],
   "source": [
    "# import requests\n",
    "# from bs4 import BeautifulSoup\n",
    "# # You need to store cookies so use a session.\n",
    "# s = requests.Session()\n",
    "# # Reques a page to get cookie.\n",
    "# s.get(\"https://www.theherbarium.com/products/?category=Essential%20Oils%20And%20Accessories\")\n",
    "# # Make the real request.\n",
    "# page = s.get(\"https://www.theherbarium.com/products/?category=Essential%20Oils%20And%20Accessories&subcategory=Superior%20Quality%20Essential%20Oils\")\n",
    "# soup = BeautifulSoup(page.content,'html.parser') \n",
    "# # Get the div.\n",
    "# divs = soup.find_all('div', attrs={'class': 'col-sm-4 column-spacer'})\n",
    "# # Get the a element text.\n",
    "# for div in divs:\n",
    "# print (div.find('a').text)"
   ]
  },
  {
   "cell_type": "code",
   "execution_count": null,
   "metadata": {},
   "outputs": [],
   "source": []
  },
  {
   "cell_type": "code",
   "execution_count": 3,
   "metadata": {},
   "outputs": [
    {
     "name": "stdout",
     "output_type": "stream",
     "text": [
      "\n",
      "\n",
      "NASA's InSight Places First Instrument on Mars\n",
      "\n",
      " \n",
      "In deploying its first instrument onto the surface of Mars, the lander completes a major mission milestone.\n",
      "\n"
     ]
    }
   ],
   "source": [
    "# scrape for article title and teaser\n",
    "\n",
    "# use splinter to click through website and find Featured Image\n",
    "# set up chromedriver open browser\n",
    "url = \"https://mars.nasa.gov/news/\"\n",
    "# url = 'https://astrogeology.usgs.gov/search/results?q=hemisphere+enhanced&k1=target&v1=Mars'\n",
    "response = requests.get(url)\n",
    "soup = BeautifulSoup(response.text, \"html.parser\")\n",
    "# executable_path = {'executable_path': 'chromedriver.exe'}\n",
    "# browser = Browser('chrome', **executable_path, headless=False)\n",
    "# url = 'https://mars.nasa.gov/news/?page=0&per_page=40&order=publish_date+desc%2Ccreated_at+desc&search=&category=19%2C165%2C184%2C204&blank_scope=Latest'\n",
    "# browser.visit(url)\n",
    "\n",
    "news_title = soup.find('div', class_=\"content_title\").text\n",
    "news_p = soup.find('div', class_=\"rollover_description_inner\").text\n",
    "\n",
    "print(news_title, news_p)\n"
   ]
  },
  {
   "cell_type": "code",
   "execution_count": 12,
   "metadata": {},
   "outputs": [],
   "source": [
    "# import requests\n",
    "# from bs4 import BeautifulSoup\n",
    "# # You need to store cookies so use a session.\n",
    "# s = requests.Session()\n",
    "# # Reques a page to get cookie.\n",
    "# s.get(\"https://mars.nasa.gov/news/\")\n",
    "# # Make the real request.\n",
    "# page = s.get(\"https://mars.nasa.gov/news/?page=0&per_page=40&order=publish_date+desc%2Ccreated_at+desc&search=&year=2018%3Apublish_date&category=19%2C165%2C184%2C204&blank_scope=Latest\")\n",
    "# soup = BeautifulSoup(page.content,'html.parser') \n",
    "# # Get the div.\n",
    "# divs = soup.find_all('div', attrs={'class': 'col-sm-4 column-spacer'})\n",
    "# # Get the a element text.\n",
    "# for div in divs:\n",
    "#     print (div.find('a').text)"
   ]
  },
  {
   "cell_type": "code",
   "execution_count": 13,
   "metadata": {},
   "outputs": [],
   "source": [
    "# use splinter to click through website and find Featured Image\n",
    "# set up chromedriver open browser\n",
    "executable_path = {'executable_path': 'chromedriver.exe'}\n",
    "browser = Browser('chrome', **executable_path, headless=False)\n",
    "url = 'https://www.jpl.nasa.gov/spaceimages/?search=&category=Mars'\n",
    "browser.visit(url)\n"
   ]
  },
  {
   "cell_type": "code",
   "execution_count": 14,
   "metadata": {},
   "outputs": [
    {
     "name": "stdout",
     "output_type": "stream",
     "text": [
      "https://www.jpl.nasa.gov/spaceimages/images/largesize/PIA16682_hires.jpg\n"
     ]
    }
   ],
   "source": [
    "# splinter find image jet populsion\n",
    "#find and click full image button\n",
    "browser.click_link_by_partial_text('FULL IMAGE')\n",
    "# establish beautiful soup and scape for image\n",
    "html = browser.html\n",
    "soup = BeautifulSoup(html, 'html.parser')\n",
    "# Parse beautiful soup and parse to form website\n",
    "imag = str(soup.find(class_='carousel_item'))\n",
    "imagUrl = imag.split('url' )[1].split('\\n')\n",
    "imagUrl1 = imagUrl[0].split(\"/\")\n",
    "# perform iteration on string, parse what is needed\n",
    "imag4 = imagUrl1[4].split('-')\n",
    "imgUrl3 = \"https://www.jpl.nasa.gov\"\n",
    "featured_image_url = imgUrl3 + \"/\" + imagUrl1[1] + \"/\" + imagUrl1[2] + \"/largesize/\" + imag4[0] +  \"_hires.jpg\"\n",
    "print(featured_image_url)\n"
   ]
  },
  {
   "cell_type": "code",
   "execution_count": 7,
   "metadata": {},
   "outputs": [
    {
     "data": {
      "text/plain": [
       "'Sol 2271 (2018-12-26), high -7C/19F, low -70C/-93F, pressure at 8.31 hPa, daylight 06:41-18:54'"
      ]
     },
     "execution_count": 7,
     "metadata": {},
     "output_type": "execute_result"
    }
   ],
   "source": [
    "# Visit Mars Weather scrape tweeter and find latest weather tweet\n",
    "url2 = 'https://twitter.com/marswxreport?lang=en/'\n",
    "response = requests.get(url2)\n",
    "soup = BeautifulSoup(response.text, 'html.parser')\n",
    "mars_weather = soup.find('p', class_='tweet-text').text\n",
    "\n",
    "#  print weahter tweet\n",
    "mars_weather"
   ]
  },
  {
   "cell_type": "code",
   "execution_count": 4,
   "metadata": {},
   "outputs": [
    {
     "ename": "TypeError",
     "evalue": "read_html() got an unexpected keyword argument 'columns'",
     "output_type": "error",
     "traceback": [
      "\u001b[1;31m---------------------------------------------------------------------------\u001b[0m",
      "\u001b[1;31mTypeError\u001b[0m                                 Traceback (most recent call last)",
      "\u001b[1;32m<ipython-input-4-c8ff394df7d6>\u001b[0m in \u001b[0;36m<module>\u001b[1;34m()\u001b[0m\n\u001b[0;32m      2\u001b[0m \u001b[1;31m# form as a table label as dataFrame convert to html\u001b[0m\u001b[1;33m\u001b[0m\u001b[1;33m\u001b[0m\u001b[0m\n\u001b[0;32m      3\u001b[0m \u001b[0murl\u001b[0m \u001b[1;33m=\u001b[0m \u001b[1;34m'https://space-facts.com/mars/'\u001b[0m\u001b[1;33m\u001b[0m\u001b[0m\n\u001b[1;32m----> 4\u001b[1;33m \u001b[0mtables\u001b[0m \u001b[1;33m=\u001b[0m \u001b[0mpd\u001b[0m\u001b[1;33m.\u001b[0m\u001b[0mread_html\u001b[0m\u001b[1;33m(\u001b[0m\u001b[0murl\u001b[0m\u001b[1;33m,\u001b[0m \u001b[0mcolumns\u001b[0m\u001b[1;33m=\u001b[0m\u001b[1;34m'ab'\u001b[0m\u001b[1;33m)\u001b[0m\u001b[1;33m\u001b[0m\u001b[0m\n\u001b[0m\u001b[0;32m      5\u001b[0m \u001b[1;33m\u001b[0m\u001b[0m\n\u001b[0;32m      6\u001b[0m \u001b[0mdf\u001b[0m \u001b[1;33m=\u001b[0m \u001b[0mtables\u001b[0m\u001b[1;33m[\u001b[0m\u001b[1;36m0\u001b[0m\u001b[1;33m]\u001b[0m\u001b[1;33m\u001b[0m\u001b[0m\n",
      "\u001b[1;31mTypeError\u001b[0m: read_html() got an unexpected keyword argument 'columns'"
     ]
    }
   ],
   "source": [
    "# Scrap table using pandas for Mars facts\n",
    "# form as a table label as dataFrame convert to html\n",
    "url = 'https://space-facts.com/mars/'\n",
    "tables = pd.read_html(url, columns='ab')\n",
    "\n",
    "df = tables[0]\n",
    "# df.head()\n",
    "\n",
    "html_table = df.to_html()\n",
    "html_table"
   ]
  },
  {
   "cell_type": "code",
   "execution_count": 15,
   "metadata": {},
   "outputs": [
    {
     "data": {
      "text/plain": [
       "{'html_table': '<table border=\"1\" class=\"dataframe\">\\n  <thead>\\n    <tr style=\"text-align: right;\">\\n      <th></th>\\n      <th>0</th>\\n      <th>1</th>\\n    </tr>\\n  </thead>\\n  <tbody>\\n    <tr>\\n      <th>0</th>\\n      <td>Equatorial Diameter:</td>\\n      <td>6,792 km</td>\\n    </tr>\\n    <tr>\\n      <th>1</th>\\n      <td>Polar Diameter:</td>\\n      <td>6,752 km</td>\\n    </tr>\\n    <tr>\\n      <th>2</th>\\n      <td>Mass:</td>\\n      <td>6.42 x 10^23 kg (10.7% Earth)</td>\\n    </tr>\\n    <tr>\\n      <th>3</th>\\n      <td>Moons:</td>\\n      <td>2 (Phobos &amp; Deimos)</td>\\n    </tr>\\n    <tr>\\n      <th>4</th>\\n      <td>Orbit Distance:</td>\\n      <td>227,943,824 km (1.52 AU)</td>\\n    </tr>\\n    <tr>\\n      <th>5</th>\\n      <td>Orbit Period:</td>\\n      <td>687 days (1.9 years)</td>\\n    </tr>\\n    <tr>\\n      <th>6</th>\\n      <td>Surface Temperature:</td>\\n      <td>-153 to 20 °C</td>\\n    </tr>\\n    <tr>\\n      <th>7</th>\\n      <td>First Record:</td>\\n      <td>2nd millennium BC</td>\\n    </tr>\\n    <tr>\\n      <th>8</th>\\n      <td>Recorded By:</td>\\n      <td>Egyptian astronomers</td>\\n    </tr>\\n  </tbody>\\n</table>',\n",
       " 'mars_weather': 'Sol 2271 (2018-12-26), high -7C/19F, low -70C/-93F, pressure at 8.31 hPa, daylight 06:41-18:54',\n",
       " 'news_p': '\\nIn deploying its first instrument onto the surface of Mars, the lander completes a major mission milestone.\\n',\n",
       " 'news_title': \"\\n\\nNASA's InSight Places First Instrument on Mars\\n\\n\"}"
      ]
     },
     "execution_count": 15,
     "metadata": {},
     "output_type": "execute_result"
    }
   ],
   "source": [
    "mars_scrape = {}\n",
    "# setup dictionary\n",
    "mars_scrape[\"news_title\"] = news_title\n",
    "mars_scrape[\"news_p\"] = news_p\n",
    "mars_scrape[\"mars_weather\"] = mars_weather\n",
    "mars_scrape[\"html_table\"] = html_table\n",
    "\n",
    "mars_scrape"
   ]
  },
  {
   "cell_type": "code",
   "execution_count": 10,
   "metadata": {},
   "outputs": [],
   "source": [
    "# click through hemisspere and store large image\n",
    "#  website not available, used google to find hemispher pictures\n",
    "#url = 'https://astrogeology.usgs.gov/search/results?q=hemisphere+enhanced&k1=target&v1=Mars'\n",
    "executable_path = {'executable_path': 'chromedriver.exe'}\n",
    "browser = Browser('chrome', **executable_path, headless=False)\n",
    "\n",
    "browser.visit(url)\n",
    "# browser.find_by_id('product-section')\n",
    "# browser.click_link_by_class('link_id')\n",
    "# browser.click_link_by_partial_href('cerberus_enhanced')\n",
    "\n",
    "\n"
   ]
  },
  {
   "cell_type": "code",
   "execution_count": null,
   "metadata": {},
   "outputs": [],
   "source": [
    "browser.click_link_by_partial_href('cerberus_enhanced')\n",
    "#  browser.click_link_by_partial_href('my_link')\n",
    "# <img class=\"wide-image\" src=\"/cache/images/cfa62af2557222a02478f1fcd781d445_cerberus_enhanced.tif_full.jpg\">    \n",
    "# <a href=\"/search/map/Mars/Viking/cerberus_enhanced\" class=\"itemLink product-item\"><img class=\"thumb\" src=\"/cache/images/dfaf3849e74bf973b59eb50dab52b583_cerberus_enhanced.tif_thumb.png\" alt=\"Cerberus Hemisphere Enhanced thumbnail\"></a>"
   ]
  },
  {
   "cell_type": "code",
   "execution_count": null,
   "metadata": {},
   "outputs": [],
   "source": [
    "https://www.jpl.nasa.gov/spaceimages/details.php?id=PIA00003\n",
    "https://www.jpl.nasa.gov/spaceimages/images/wallpaper/PIA00091-1024x768.jpg\n",
    "https://photojournal.jpl.nasa.gov/jpeg/PIA00004.jpg\n",
    "https://photojournal.jpl.nasa.gov/jpeg/PIA00092.jpg"
   ]
  },
  {
   "cell_type": "code",
   "execution_count": null,
   "metadata": {},
   "outputs": [],
   "source": [
    "https://photojournal.jpl.nasa.gov/ <click Mars>\n"
   ]
  },
  {
   "cell_type": "code",
   "execution_count": 16,
   "metadata": {},
   "outputs": [
    {
     "data": {
      "text/plain": [
       "{'hemisphere_image_urls': [{'img_url': 'https://photojournal.jpl.nasa.gov/jpeg/PIA00003.jpg',\n",
       "   'title': 'Valles Marineris Hemisphere'},\n",
       "  {'img_url': 'https://photojournal.jpl.nasa.gov/jpeg/PIA00091.jpg',\n",
       "   'title': 'Cerberus Hemisphere'},\n",
       "  {'img_url': 'https://photojournal.jpl.nasa.gov/jpeg/PIA00004.jpg',\n",
       "   'title': 'Schiaparelli Hemisphere'},\n",
       "  {'img_url': 'https://photojournal.jpl.nasa.gov/jpeg/PIA00092.jpg',\n",
       "   'title': 'Syrtis Major Hemisphere'}],\n",
       " 'html_table': '<table border=\"1\" class=\"dataframe\">\\n  <thead>\\n    <tr style=\"text-align: right;\">\\n      <th></th>\\n      <th>0</th>\\n      <th>1</th>\\n    </tr>\\n  </thead>\\n  <tbody>\\n    <tr>\\n      <th>0</th>\\n      <td>Equatorial Diameter:</td>\\n      <td>6,792 km</td>\\n    </tr>\\n    <tr>\\n      <th>1</th>\\n      <td>Polar Diameter:</td>\\n      <td>6,752 km</td>\\n    </tr>\\n    <tr>\\n      <th>2</th>\\n      <td>Mass:</td>\\n      <td>6.42 x 10^23 kg (10.7% Earth)</td>\\n    </tr>\\n    <tr>\\n      <th>3</th>\\n      <td>Moons:</td>\\n      <td>2 (Phobos &amp; Deimos)</td>\\n    </tr>\\n    <tr>\\n      <th>4</th>\\n      <td>Orbit Distance:</td>\\n      <td>227,943,824 km (1.52 AU)</td>\\n    </tr>\\n    <tr>\\n      <th>5</th>\\n      <td>Orbit Period:</td>\\n      <td>687 days (1.9 years)</td>\\n    </tr>\\n    <tr>\\n      <th>6</th>\\n      <td>Surface Temperature:</td>\\n      <td>-153 to 20 °C</td>\\n    </tr>\\n    <tr>\\n      <th>7</th>\\n      <td>First Record:</td>\\n      <td>2nd millennium BC</td>\\n    </tr>\\n    <tr>\\n      <th>8</th>\\n      <td>Recorded By:</td>\\n      <td>Egyptian astronomers</td>\\n    </tr>\\n  </tbody>\\n</table>',\n",
       " 'mars_weather': 'Sol 2271 (2018-12-26), high -7C/19F, low -70C/-93F, pressure at 8.31 hPa, daylight 06:41-18:54',\n",
       " 'news_p': '\\nIn deploying its first instrument onto the surface of Mars, the lander completes a major mission milestone.\\n',\n",
       " 'news_title': \"\\n\\nNASA's InSight Places First Instrument on Mars\\n\\n\"}"
      ]
     },
     "execution_count": 16,
     "metadata": {},
     "output_type": "execute_result"
    }
   ],
   "source": [
    "# setup dictionary with hemisphere urls (website (https://astrogeology.usgs.gov/) down using google)\n",
    "hemisphere_image_urls = [\n",
    "    {\"title\": \"Valles Marineris Hemisphere\", \"img_url\": \"https://photojournal.jpl.nasa.gov/jpeg/PIA00003.jpg\"},\n",
    "    {\"title\": \"Cerberus Hemisphere\", \"img_url\": \"https://photojournal.jpl.nasa.gov/jpeg/PIA00091.jpg\"},\n",
    "    {\"title\": \"Schiaparelli Hemisphere\", \"img_url\": \"https://photojournal.jpl.nasa.gov/jpeg/PIA00004.jpg\"},\n",
    "    {\"title\": \"Syrtis Major Hemisphere\", \"img_url\": \"https://photojournal.jpl.nasa.gov/jpeg/PIA00092.jpg\"},\n",
    "]\n",
    "\n",
    "#  use data to compile information from scrape\n",
    "mars_scrape = {}\n",
    "# setup dictionary\n",
    "mars_scrape[\"news_title\"] = news_title\n",
    "mars_scrape[\"news_p\"] = news_p\n",
    "mars_scrape[\"mars_weather\"] = mars_weather\n",
    "mars_scrape[\"html_table\"] = html_table\n",
    "mars_scrape[\"hemisphere_image_urls\"] = hemisphere_image_urls\n",
    "mars_scrape\n"
   ]
  },
  {
   "cell_type": "code",
   "execution_count": 21,
   "metadata": {},
   "outputs": [
    {
     "ename": "AttributeError",
     "evalue": "'dict' object has no attribute 'title'",
     "output_type": "error",
     "traceback": [
      "\u001b[1;31m---------------------------------------------------------------------------\u001b[0m",
      "\u001b[1;31mAttributeError\u001b[0m                            Traceback (most recent call last)",
      "\u001b[1;32m<ipython-input-21-e51b94cb4afb>\u001b[0m in \u001b[0;36m<module>\u001b[1;34m()\u001b[0m\n\u001b[1;32m----> 1\u001b[1;33m \u001b[0mprint\u001b[0m \u001b[1;33m(\u001b[0m\u001b[1;33m{\u001b[0m\u001b[0mmars_scrape\u001b[0m\u001b[1;33m.\u001b[0m\u001b[0mtitle\u001b[0m\u001b[1;33m}\u001b[0m\u001b[1;33m)\u001b[0m\u001b[1;33m\u001b[0m\u001b[0m\n\u001b[0m",
      "\u001b[1;31mAttributeError\u001b[0m: 'dict' object has no attribute 'title'"
     ]
    }
   ],
   "source": [
    "print ({mars_scrape.title})"
   ]
  },
  {
   "cell_type": "code",
   "execution_count": null,
   "metadata": {},
   "outputs": [],
   "source": []
  }
 ],
 "metadata": {
  "kernelspec": {
   "display_name": "Python 3",
   "language": "python",
   "name": "python3"
  },
  "language_info": {
   "codemirror_mode": {
    "name": "ipython",
    "version": 3
   },
   "file_extension": ".py",
   "mimetype": "text/x-python",
   "name": "python",
   "nbconvert_exporter": "python",
   "pygments_lexer": "ipython3",
   "version": "3.6.5"
  }
 },
 "nbformat": 4,
 "nbformat_minor": 2
}
