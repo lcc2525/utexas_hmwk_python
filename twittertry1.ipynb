{
 "cells": [
  {
   "cell_type": "code",
   "execution_count": 1,
   "metadata": {},
   "outputs": [
    {
     "name": "stdout",
     "output_type": "stream",
     "text": [
      "consumer key: consumer_key = \"TQi6EPa4sfDDLJhxoLvKZ45Sx\"\n",
      "\n",
      "consumer secret: consumer_secret = \"LOfaGua49SwO14NSsvf2L3XbQGeVnxCVoJBPZX6MZa2wPrwPlB\"\n",
      "\n",
      "access token: access_token = \"1029260403073839104-f1tkdITaKxZkM94IleDppnH9SW8yBT\"\n",
      "\n",
      "access token secret: access_token_secret = \"Ux7g8aeEYrlwWKYth176tVRzopEaD7xv5cV6bcJlZBP6D\"\n",
      "\n"
     ]
    },
    {
     "ename": "NameError",
     "evalue": "name 'api' is not defined",
     "output_type": "error",
     "traceback": [
      "\u001b[1;31m---------------------------------------------------------------------------\u001b[0m",
      "\u001b[1;31mNameError\u001b[0m                                 Traceback (most recent call last)",
      "\u001b[1;32m<ipython-input-1-fdcdada52bfa>\u001b[0m in \u001b[0;36m<module>\u001b[1;34m()\u001b[0m\n\u001b[0;32m     52\u001b[0m \u001b[1;31m#names_ls = [ '@lcc2525', '@CNN', '@FoxNews']\u001b[0m\u001b[1;33m\u001b[0m\u001b[1;33m\u001b[0m\u001b[0m\n\u001b[0;32m     53\u001b[0m \u001b[1;31m#for name in names_ls:\u001b[0m\u001b[1;33m\u001b[0m\u001b[1;33m\u001b[0m\u001b[0m\n\u001b[1;32m---> 54\u001b[1;33m \u001b[0mget_tweets\u001b[0m\u001b[1;33m(\u001b[0m\u001b[1;34m'lcc2525'\u001b[0m\u001b[1;33m)\u001b[0m\u001b[1;33m\u001b[0m\u001b[0m\n\u001b[0m\u001b[0;32m     55\u001b[0m \u001b[1;31m#get tweets for username passed at command line\u001b[0m\u001b[1;33m\u001b[0m\u001b[1;33m\u001b[0m\u001b[0m\n\u001b[0;32m     56\u001b[0m \u001b[1;31m#    if len(sys.argv) == 2:\u001b[0m\u001b[1;33m\u001b[0m\u001b[1;33m\u001b[0m\u001b[0m\n",
      "\u001b[1;32m<ipython-input-1-fdcdada52bfa>\u001b[0m in \u001b[0;36mget_tweets\u001b[1;34m(username)\u001b[0m\n\u001b[0;32m     36\u001b[0m \u001b[1;33m\u001b[0m\u001b[0m\n\u001b[0;32m     37\u001b[0m         \u001b[1;31m#get tweets\u001b[0m\u001b[1;33m\u001b[0m\u001b[1;33m\u001b[0m\u001b[0m\n\u001b[1;32m---> 38\u001b[1;33m         \u001b[0mtweets\u001b[0m \u001b[1;33m=\u001b[0m \u001b[0mapi\u001b[0m\u001b[1;33m.\u001b[0m\u001b[0muser_timeline\u001b[0m\u001b[1;33m(\u001b[0m\u001b[0mscreen_name\u001b[0m \u001b[1;33m=\u001b[0m \u001b[0musername\u001b[0m\u001b[1;33m,\u001b[0m\u001b[0mcount\u001b[0m \u001b[1;33m=\u001b[0m \u001b[0mnumber_of_tweets\u001b[0m\u001b[1;33m)\u001b[0m\u001b[1;33m\u001b[0m\u001b[0m\n\u001b[0m\u001b[0;32m     39\u001b[0m \u001b[1;33m\u001b[0m\u001b[0m\n\u001b[0;32m     40\u001b[0m         \u001b[1;31m#create array of tweet information: username, tweet id, date/time, text\u001b[0m\u001b[1;33m\u001b[0m\u001b[1;33m\u001b[0m\u001b[0m\n",
      "\u001b[1;31mNameError\u001b[0m: name 'api' is not defined"
     ]
    }
   ],
   "source": [
    "#!/usr/bin/env python\n",
    "# -*- coding: utf-8 -*-\n",
    "\n",
    "import sys\n",
    "import csv\n",
    "import configtwit\n",
    "#http://www.tweepy.org/\n",
    "import tweepy\n",
    "\n",
    "#Get your Twitter API credentials and enter them here\n",
    "keyFile = open('configtwit.py', 'r')\n",
    "consumer_key = keyFile.readline()\n",
    "consumer_secret = keyFile.readline()\n",
    "access_token = keyFile.readline()\n",
    "access_token_secret = keyFile.readline()\n",
    "keyFile.close()\n",
    "\n",
    "\n",
    "print (\"consumer key: \" + consumer_key)\n",
    "print (\"consumer secret: \" + consumer_secret)\n",
    "print (\"access token: \" + access_token)\n",
    "print (\"access token secret: \" + access_token_secret)\n",
    "\n",
    "\n",
    "\n",
    "#method to get a user's last 100 tweets\n",
    "def get_tweets(username):\n",
    "\n",
    "#\t#http://tweepy.readthedocs.org/en/v3.1.0/getting_started.html#api\n",
    "#\tauth = tweepy.OAuthHandler(consumer_key, consumer_secret)\n",
    "#\tauth.set_access_token(access_key, access_secret)\n",
    "#\tapi = tweepy.API(auth)\n",
    "\n",
    "\t#set count to however many tweets you want; twitter only allows 200 at once\n",
    "\tnumber_of_tweets = 100\n",
    "\n",
    "\t#get tweets\n",
    "\ttweets = api.user_timeline(screen_name = username,count = number_of_tweets)\n",
    "\n",
    "\t#create array of tweet information: username, tweet id, date/time, text\n",
    "\ttweets_for_csv = [[username,tweet.id_str, tweet.created_at, tweet.text.encode(\"utf-8\")] for tweet in tweets]\n",
    "\n",
    "\t#write to a new csv file from the array of tweets\n",
    "\tprint (\"writing to {0}_tweets.csv\".format(username))\n",
    "\twith open(\"{0}_tweets.csv\".format(username) , 'w+') as file:\n",
    "\t\twriter = csv.writer(file, delimiter='|')\n",
    "\t\twriter.writerows(tweets_for_csv)\n",
    "\n",
    "\n",
    "#if we're running this as a script\n",
    "# if __name__ == '__main__':\n",
    "#names_ls = [ '@lcc2525', '@CNN', '@FoxNews']\n",
    "#for name in names_ls:\n",
    "get_tweets('lcc2525')\n",
    "#get tweets for username passed at command line\n",
    "#    if len(sys.argv) == 2:\n",
    "#        get_tweets(sys.argv[1])\n",
    "#    else:\n",
    "#        print (\"Error: enter one username\")\n",
    "\n",
    "    #alternative method: loop through multiple users\n",
    "\t# users = ['user1','user2']\n",
    "\n",
    "\t# for user in users:\n",
    "\t# \tget_tweets(user)"
   ]
  },
  {
   "cell_type": "code",
   "execution_count": null,
   "metadata": {},
   "outputs": [],
   "source": []
  }
 ],
 "metadata": {
  "kernelspec": {
   "display_name": "Python [conda env:Anaconda3]",
   "language": "python",
   "name": "conda-env-Anaconda3-py"
  },
  "language_info": {
   "codemirror_mode": {
    "name": "ipython",
    "version": 3
   },
   "file_extension": ".py",
   "mimetype": "text/x-python",
   "name": "python",
   "nbconvert_exporter": "python",
   "pygments_lexer": "ipython3",
   "version": "3.6.5"
  }
 },
 "nbformat": 4,
 "nbformat_minor": 2
}
