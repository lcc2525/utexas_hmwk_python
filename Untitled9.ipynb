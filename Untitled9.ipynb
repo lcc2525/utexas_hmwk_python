{
 "cells": [
  {
   "cell_type": "code",
   "execution_count": null,
   "metadata": {},
   "outputs": [],
   "source": [
    "Total_Revenue = ('${:,.2f}'.format (purchase_data['Price'].sum()))\n",
    "# percent and count of Male Players\n",
    "Total_players = purchase_data['Gender'].count()\n",
    "Total_male = purchase_data.loc[purchase_data['Gender'] == 'Male',['Gender']].count()\n",
    "Total_malePurchase = ( Total_male / Total_players) * Total_Revenue\n",
    "\n",
    "PerCount_maledf = pd.DataFrame({\"Purchase Count\" : Total_male, \"Total Purchase Value\" : Total_malePurchase})\n",
    "PerCount_maledf.index.name = 'Male'\n",
    "# print(PerCount_maledf)\n",
    "\n",
    "#PerCount_maledf.columns(0) = 'Gender'\n",
    "# percent and count of Female Players\n",
    "Total_female = purchase_data.loc[purchase_data['Gender'] == 'Female',['Gender']].count()\n",
    "Total_femalePurchase = ( Total_female / Total_players) * Total_Revenue\n",
    "# Percent_female2 = ( Total_female / Total_players)\n",
    "Percent_female = '{:.0%}'.format(Percent_female['Gender'])\n",
    "PerCount_femaledf = pd.DataFrame({\"Purchase Count\" : Total_female, \"Total Purchase Value\" : Total_femalePurchase})\n",
    "PerCount_femaledf.index.name = 'Female'\n",
    "\n",
    "# percent and count of other Players\n",
    "# Other / Non-Disclosed\n",
    "Total_other = purchase_data.loc[purchase_data['Gender'] == 'Other / Non-Disclosed',['Gender']].count()\n",
    "Percent_other = ( Total_other / Total_players)\n",
    "Total_otherPurchase = Total_Revenue * (Total_other / Total_players)\n",
    "Percent_other2 = ( Total_other / Total_players)\n",
    "Percent_other = '{:.0%}'.format(Percent_other['Gender'])\n",
    "PerCount_otherdf = pd.DataFrame({\"Purchase Count\" : Total_other, \"Total Purchase Value\" : Total_other})\n",
    "PerCount_otherdf.index.name = 'Other'\n",
    "# print (Percent_other)\n",
    "# merge tables \n",
    "# print(Percent_male2 * int(purchase_data['Price'].sum()))\n",
    "gender_demodf = pd.merge(PerCount_maledf, PerCount_femaledf, how='outer')\n",
    "gender_demodf = pd.merge(gender_demodf, PerCount_otherdf, how='outer')\n",
    "gender = ['Male', 'Female', 'Other']\n",
    "idx = 0\n",
    "gender_demodf.insert(loc=idx, column = 'Gender', value = gender)\n",
    "print(gender_demodf)\n",
    "#df.insert(idx, column='A', value=new_col)"
   ]
  }
 ],
 "metadata": {
  "kernelspec": {
   "display_name": "Python 3",
   "language": "python",
   "name": "python3"
  },
  "language_info": {
   "codemirror_mode": {
    "name": "ipython",
    "version": 3
   },
   "file_extension": ".py",
   "mimetype": "text/x-python",
   "name": "python",
   "nbconvert_exporter": "python",
   "pygments_lexer": "ipython3",
   "version": "3.6.5"
  }
 },
 "nbformat": 4,
 "nbformat_minor": 2
}
